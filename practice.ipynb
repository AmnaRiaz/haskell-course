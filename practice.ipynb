add :: Int -> Int -> Int
add a b = a+b
add 1030 203
